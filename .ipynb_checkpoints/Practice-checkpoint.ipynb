{
 "cells": [
  {
   "cell_type": "markdown",
   "id": "901c10e1-258c-444a-9ad5-3516d33d7ce0",
   "metadata": {},
   "source": [
    "# multiple the list of integer with a number also do it with condition that multiply only when the number is in the list is greater than 2"
   ]
  },
  {
   "cell_type": "code",
   "execution_count": 9,
   "id": "48b0a9b0-9da9-49ae-b53a-75eadc69720a",
   "metadata": {},
   "outputs": [],
   "source": [
    "lst=[2,4,6]"
   ]
  },
  {
   "cell_type": "code",
   "execution_count": 6,
   "id": "b8f93949-23c3-4e9a-95f7-ad46ee237b9f",
   "metadata": {},
   "outputs": [],
   "source": [
    "result = [i*2 for i in lst if i>2]"
   ]
  },
  {
   "cell_type": "code",
   "execution_count": 7,
   "id": "d040651a-0d32-4d3a-add1-284f3489d0e0",
   "metadata": {},
   "outputs": [],
   "source": [
    "result = [i*2 if i > 2 else i for i in lst]"
   ]
  },
  {
   "cell_type": "code",
   "execution_count": 8,
   "id": "056a18c6-dc5d-413f-a2bf-60bd9f26a6a2",
   "metadata": {},
   "outputs": [
    {
     "data": {
      "text/plain": [
       "[2, 8, 12]"
      ]
     },
     "execution_count": 8,
     "metadata": {},
     "output_type": "execute_result"
    }
   ],
   "source": [
    "result"
   ]
  },
  {
   "cell_type": "markdown",
   "id": "753d267e-ea1d-43db-a9b1-bc67344652a7",
   "metadata": {},
   "source": [
    "# Question: Write a Python code to create a new list that contains only the even numbers from the given list."
   ]
  },
  {
   "cell_type": "code",
   "execution_count": 10,
   "id": "bf610530-1f13-402d-8672-655bf6fe92a2",
   "metadata": {},
   "outputs": [],
   "source": [
    "lst_1 = [2,3,4,5,6,10]"
   ]
  },
  {
   "cell_type": "code",
   "execution_count": 11,
   "id": "ef2b3d35-0229-4c9a-8a82-d3dfa39ea495",
   "metadata": {},
   "outputs": [],
   "source": [
    "res= [ i for i in lst_1 if i%2 == 0]"
   ]
  },
  {
   "cell_type": "code",
   "execution_count": 13,
   "id": "48e06add-0255-4f14-b1e3-9c3d3ad6040a",
   "metadata": {},
   "outputs": [
    {
     "data": {
      "text/plain": [
       "[2, 4, 6, 10]"
      ]
     },
     "execution_count": 13,
     "metadata": {},
     "output_type": "execute_result"
    }
   ],
   "source": [
    "res"
   ]
  },
  {
   "cell_type": "markdown",
   "id": "0bcd64c6-33a7-4f3f-8d24-515a7b6afb7c",
   "metadata": {},
   "source": [
    "# Write a Python code to create a new list that contains squares of even numbers and cubes of odd numbers from the given list."
   ]
  },
  {
   "cell_type": "code",
   "execution_count": 14,
   "id": "db913260-3101-419e-a2a1-1771dae00f65",
   "metadata": {},
   "outputs": [],
   "source": [
    "numbers = [1, 2, 3, 4, 5, 6, 7, 8, 9, 10]"
   ]
  },
  {
   "cell_type": "code",
   "execution_count": 16,
   "id": "dd897fca-e5b6-4835-aece-57636690ef15",
   "metadata": {},
   "outputs": [],
   "source": [
    "res = [i*i  if i%2==0 else i*i*i for i in numbers ]"
   ]
  },
  {
   "cell_type": "code",
   "execution_count": 17,
   "id": "f2b1a669-b346-4420-a6b8-3e560b610ff6",
   "metadata": {},
   "outputs": [
    {
     "data": {
      "text/plain": [
       "[1, 4, 27, 16, 125, 36, 343, 64, 729, 100]"
      ]
     },
     "execution_count": 17,
     "metadata": {},
     "output_type": "execute_result"
    }
   ],
   "source": [
    "res"
   ]
  },
  {
   "cell_type": "markdown",
   "id": "de571a5d-6d80-4f1e-a04a-13361fafa50f",
   "metadata": {},
   "source": [
    "# List comprehension to filter words with more than 5 characters"
   ]
  },
  {
   "cell_type": "code",
   "execution_count": 18,
   "id": "17d93f15-29e2-4e35-9e2d-7f1fd810480f",
   "metadata": {},
   "outputs": [],
   "source": [
    "# Original list\n",
    "words = [\"apple\", \"banana\", \"orange\", \"kiwi\", \"pear\", \"strawberry\"]"
   ]
  },
  {
   "cell_type": "code",
   "execution_count": 19,
   "id": "d0a3ca04-c3b2-4f11-be8a-8c8b1bd2aa51",
   "metadata": {},
   "outputs": [],
   "source": [
    "res = [word for word in words if len(word)>5]"
   ]
  },
  {
   "cell_type": "code",
   "execution_count": 20,
   "id": "b9be488b-1b5d-472f-9f77-01fe632571ed",
   "metadata": {},
   "outputs": [
    {
     "data": {
      "text/plain": [
       "['banana', 'orange', 'strawberry']"
      ]
     },
     "execution_count": 20,
     "metadata": {},
     "output_type": "execute_result"
    }
   ],
   "source": [
    "res"
   ]
  },
  {
   "cell_type": "markdown",
   "id": "42253a35-620f-4982-8f09-be1bb4936783",
   "metadata": {},
   "source": [
    "# List comprehension to label even and odd numbers"
   ]
  },
  {
   "cell_type": "code",
   "execution_count": 23,
   "id": "5fdf3461-6023-436c-9780-ff0acc096c62",
   "metadata": {},
   "outputs": [],
   "source": [
    "numbers = [1, 2, 3, 4, 5]"
   ]
  },
  {
   "cell_type": "code",
   "execution_count": 29,
   "id": "e67aba2b-bb7c-4547-aaca-ee69721394f3",
   "metadata": {},
   "outputs": [],
   "source": [
    "res = [ 'even' if i%2==0 else 'odd' for i in numbers]"
   ]
  },
  {
   "cell_type": "code",
   "execution_count": 30,
   "id": "c6eac9ed-3c8d-4fe3-9a88-79b201662f04",
   "metadata": {},
   "outputs": [
    {
     "data": {
      "text/plain": [
       "['odd', 'even', 'odd', 'even', 'odd']"
      ]
     },
     "execution_count": 30,
     "metadata": {},
     "output_type": "execute_result"
    }
   ],
   "source": [
    "res"
   ]
  },
  {
   "cell_type": "markdown",
   "id": "02b9fd11-f2ed-4751-bcd3-46ff154042df",
   "metadata": {},
   "source": [
    "# Nested list comprehension to transpose the matrix"
   ]
  },
  {
   "cell_type": "code",
   "execution_count": 31,
   "id": "01b65551-f5dc-421f-a0a2-e560a897aca0",
   "metadata": {},
   "outputs": [],
   "source": [
    "matrix = [[1, 2, 3],\n",
    "          [4, 5, 6],\n",
    "          [7, 8, 9]]"
   ]
  },
  {
   "cell_type": "code",
   "execution_count": 32,
   "id": "f58eae2a-a80d-42c7-9449-6c17e9629792",
   "metadata": {},
   "outputs": [
    {
     "data": {
      "text/plain": [
       "[[1, 2, 3], [4, 5, 6], [7, 8, 9]]"
      ]
     },
     "execution_count": 32,
     "metadata": {},
     "output_type": "execute_result"
    }
   ],
   "source": [
    "matrix"
   ]
  },
  {
   "cell_type": "code",
   "execution_count": 38,
   "id": "a859ad7d-ea4a-4cba-ae0e-a7ff72ea37eb",
   "metadata": {},
   "outputs": [],
   "source": [
    "res = [i[0] for row in matrix for i in ]"
   ]
  },
  {
   "cell_type": "code",
   "execution_count": 39,
   "id": "7363bc87-a3e3-4ab7-8314-da1258e8ebcf",
   "metadata": {},
   "outputs": [
    {
     "data": {
      "text/plain": [
       "[1, 4, 7]"
      ]
     },
     "execution_count": 39,
     "metadata": {},
     "output_type": "execute_result"
    }
   ],
   "source": [
    "res"
   ]
  },
  {
   "cell_type": "code",
   "execution_count": 46,
   "id": "06f68ef6-73f6-4fc7-bdfb-914a03ef7cc4",
   "metadata": {},
   "outputs": [],
   "source": [
    "x= [[row[i] for row in matrix] for i in range(len(matrix[0]))]"
   ]
  },
  {
   "cell_type": "code",
   "execution_count": 47,
   "id": "a625af1a-2c46-42e0-8808-10f7941d33a3",
   "metadata": {},
   "outputs": [
    {
     "data": {
      "text/plain": [
       "[[1, 4, 7], [2, 5, 8], [3, 6, 9]]"
      ]
     },
     "execution_count": 47,
     "metadata": {},
     "output_type": "execute_result"
    }
   ],
   "source": [
    "x"
   ]
  },
  {
   "cell_type": "markdown",
   "id": "8ef036f2-3519-44c0-b4f8-05478acf3e16",
   "metadata": {},
   "source": [
    "# Create a list of all possible pairs (i, j) where i is from 1 to 3 and j is from 1 to 2"
   ]
  },
  {
   "cell_type": "code",
   "execution_count": 55,
   "id": "db4c4778-8c1e-4885-a64b-a96dd9fa0caf",
   "metadata": {},
   "outputs": [],
   "source": [
    "res = [(i,j) for i in range(1,4) for j in range(1,3)]"
   ]
  },
  {
   "cell_type": "code",
   "execution_count": 57,
   "id": "145dfd5b-9fad-4e69-8c32-6076a0c3c4f9",
   "metadata": {},
   "outputs": [
    {
     "data": {
      "text/plain": [
       "[(1, 1), (1, 2), (2, 1), (2, 2), (3, 1), (3, 2)]"
      ]
     },
     "execution_count": 57,
     "metadata": {},
     "output_type": "execute_result"
    }
   ],
   "source": [
    "res"
   ]
  },
  {
   "cell_type": "markdown",
   "id": "15f3b85b-2d78-48a4-bc71-9ad0ddbf0231",
   "metadata": {},
   "source": [
    "# Flatten a 2D list."
   ]
  },
  {
   "cell_type": "code",
   "execution_count": 59,
   "id": "c2f18695-bb7e-4436-baac-656bc8f7826f",
   "metadata": {},
   "outputs": [],
   "source": [
    "matrix = [[1, 2, 3], [4, 5, 6], [7, 8, 9]]"
   ]
  },
  {
   "cell_type": "code",
   "execution_count": 62,
   "id": "6571daf5-1fee-4d60-886a-d0216e3fd71a",
   "metadata": {},
   "outputs": [],
   "source": [
    "res = [i for i in matrix for i in range(len(matrix))]"
   ]
  },
  {
   "cell_type": "code",
   "execution_count": 63,
   "id": "2554c289-5647-44a1-905b-73a88e30cd57",
   "metadata": {},
   "outputs": [
    {
     "data": {
      "text/plain": [
       "[0, 1, 2, 0, 1, 2, 0, 1, 2]"
      ]
     },
     "execution_count": 63,
     "metadata": {},
     "output_type": "execute_result"
    }
   ],
   "source": [
    "res"
   ]
  },
  {
   "cell_type": "code",
   "execution_count": 69,
   "id": "0b4c3363-658a-4c0f-a70c-a2fa1f519854",
   "metadata": {},
   "outputs": [],
   "source": [
    "res=[ num for j in matrix for num in j]"
   ]
  },
  {
   "cell_type": "code",
   "execution_count": 70,
   "id": "7d294185-5a7a-4889-966e-4fc2aeb8dcf3",
   "metadata": {},
   "outputs": [
    {
     "data": {
      "text/plain": [
       "[1, 2, 3, 4, 5, 6, 7, 8, 9]"
      ]
     },
     "execution_count": 70,
     "metadata": {},
     "output_type": "execute_result"
    }
   ],
   "source": [
    "res"
   ]
  },
  {
   "cell_type": "markdown",
   "id": "5088b53b-3a1b-4286-b312-87177aa0efaf",
   "metadata": {},
   "source": [
    "# Convert a list of strings to uppercase."
   ]
  },
  {
   "cell_type": "code",
   "execution_count": 71,
   "id": "f5bed417-2c41-4c22-b96e-8d13b65ba2b8",
   "metadata": {},
   "outputs": [],
   "source": [
    "words = ['hello', 'world', 'python']"
   ]
  },
  {
   "cell_type": "code",
   "execution_count": 72,
   "id": "ef3212fb-094e-4f36-8cc7-c0a00da7f227",
   "metadata": {},
   "outputs": [],
   "source": [
    "res = [i.upper() for i in words]"
   ]
  },
  {
   "cell_type": "code",
   "execution_count": 73,
   "id": "70f181b3-9aec-4cd4-8437-038a35f4d96f",
   "metadata": {},
   "outputs": [
    {
     "data": {
      "text/plain": [
       "['HELLO', 'WORLD', 'PYTHON']"
      ]
     },
     "execution_count": 73,
     "metadata": {},
     "output_type": "execute_result"
    }
   ],
   "source": [
    "res"
   ]
  },
  {
   "cell_type": "markdown",
   "id": "34d96b4f-9f83-408b-895b-32d1f57a8164",
   "metadata": {},
   "source": [
    "# Replace negative numbers with zero."
   ]
  },
  {
   "cell_type": "code",
   "execution_count": 74,
   "id": "6db8de5e-c894-45dd-aa30-8fc2979c4d08",
   "metadata": {},
   "outputs": [],
   "source": [
    "numbers = [-1, 2, -3, 4, -5]"
   ]
  },
  {
   "cell_type": "code",
   "execution_count": 75,
   "id": "b276ad60-2fe0-4d35-ab45-e3ddab8510dc",
   "metadata": {},
   "outputs": [],
   "source": [
    "res = [0 if i < 0 else i for i in numbers ]"
   ]
  },
  {
   "cell_type": "code",
   "execution_count": 76,
   "id": "90c96a3c-2a5e-4ce3-b366-5eb13f1fcdcf",
   "metadata": {},
   "outputs": [
    {
     "data": {
      "text/plain": [
       "[0, 2, 0, 4, 0]"
      ]
     },
     "execution_count": 76,
     "metadata": {},
     "output_type": "execute_result"
    }
   ],
   "source": [
    "res"
   ]
  },
  {
   "cell_type": "code",
   "execution_count": 88,
   "id": "44d6a5e7-ff94-4038-8c87-1f0c797dd125",
   "metadata": {},
   "outputs": [],
   "source": [
    "product_of_evens = reduce(lambda x, y: x * y, [x for x in range(10) if x % 2 == 0])"
   ]
  },
  {
   "cell_type": "code",
   "execution_count": 85,
   "id": "53450786-68b2-43a3-816d-c07cb4319a15",
   "metadata": {},
   "outputs": [],
   "source": [
    "from functools import reduce"
   ]
  },
  {
   "cell_type": "code",
   "execution_count": 86,
   "id": "2e26c7da-4c6b-4542-bd50-f2b09b40d191",
   "metadata": {},
   "outputs": [],
   "source": [
    "res = reduce(lambda x, y: x * y, [x for x in range(10) if x %2 == 0])"
   ]
  },
  {
   "cell_type": "code",
   "execution_count": 89,
   "id": "60585510-da7a-495e-a015-f14f2abe3bbd",
   "metadata": {},
   "outputs": [
    {
     "data": {
      "text/plain": [
       "0"
      ]
     },
     "execution_count": 89,
     "metadata": {},
     "output_type": "execute_result"
    }
   ],
   "source": [
    "product_of_evens"
   ]
  },
  {
   "cell_type": "code",
   "execution_count": null,
   "id": "fd69acb9-ac6e-41e9-9da2-3b2142f484dd",
   "metadata": {},
   "outputs": [],
   "source": []
  },
  {
   "cell_type": "code",
   "execution_count": 97,
   "id": "776d6515-f13a-4b52-95a3-269b9c891cb6",
   "metadata": {},
   "outputs": [],
   "source": [
    "def is_prime(num):\n",
    "    if num <= 1:\n",
    "        return false\n",
    "    for i in range(2,num):\n",
    "        if num % i == 0: \n",
    "            return False\n",
    "    return True"
   ]
  },
  {
   "cell_type": "code",
   "execution_count": 103,
   "id": "dfe1a7ab-47c0-4a14-87e2-696958b40d3b",
   "metadata": {},
   "outputs": [],
   "source": [
    "primes = [x for x in range(2, 50) if is_prime(x)]"
   ]
  },
  {
   "cell_type": "code",
   "execution_count": 104,
   "id": "fc4a3317-1a2a-443c-b119-84bce24c10b7",
   "metadata": {},
   "outputs": [
    {
     "data": {
      "text/plain": [
       "[2, 3, 5, 7, 11, 13, 17, 19, 23, 29, 31, 37, 41, 43, 47]"
      ]
     },
     "execution_count": 104,
     "metadata": {},
     "output_type": "execute_result"
    }
   ],
   "source": [
    "primes"
   ]
  },
  {
   "cell_type": "markdown",
   "id": "81cdb78d-42ab-4cbc-b69d-a062eb116620",
   "metadata": {},
   "source": [
    "# Create a dictionary where keys are numbers from 1 to 5 and values are their squares"
   ]
  },
  {
   "cell_type": "code",
   "execution_count": 108,
   "id": "47156b99-9734-44c2-bd9b-a19468acd256",
   "metadata": {},
   "outputs": [
    {
     "data": {
      "text/plain": [
       "{1: 2, 2: 4, 3: 6, 4: 8, 5: 10}"
      ]
     },
     "execution_count": 108,
     "metadata": {},
     "output_type": "execute_result"
    }
   ],
   "source": [
    "{i:i*2 for i in range(1,6)}"
   ]
  },
  {
   "cell_type": "markdown",
   "id": "f37024ad-6099-4592-8856-9e67f5d4366f",
   "metadata": {},
   "source": [
    "# Create a dictionary of even numbers and their squares from 1 to 10."
   ]
  },
  {
   "cell_type": "code",
   "execution_count": 109,
   "id": "01b72ffc-7068-4176-9aca-aa9ac29292d0",
   "metadata": {},
   "outputs": [
    {
     "data": {
      "text/plain": [
       "{2: 4, 4: 8, 6: 12, 8: 16, 10: 20}"
      ]
     },
     "execution_count": 109,
     "metadata": {},
     "output_type": "execute_result"
    }
   ],
   "source": [
    "{i: i*2 for i in range(1,11) if i%2 == 0 }"
   ]
  },
  {
   "cell_type": "markdown",
   "id": "f9c0d355-1e7f-4bf4-a974-8ba043a36832",
   "metadata": {},
   "source": [
    "# Create a dictionary from a list of words where the keys are the words and the values are their lengths."
   ]
  },
  {
   "cell_type": "code",
   "execution_count": 110,
   "id": "461fa1d1-8f89-45a8-9e84-93bc0feb96ff",
   "metadata": {},
   "outputs": [],
   "source": [
    "words = ['apple', 'banana', 'cherry']"
   ]
  },
  {
   "cell_type": "code",
   "execution_count": 111,
   "id": "f124c27a-eb10-4cf4-a107-c95f31eed3a2",
   "metadata": {},
   "outputs": [
    {
     "data": {
      "text/plain": [
       "{'apple': 5, 'banana': 6, 'cherry': 6}"
      ]
     },
     "execution_count": 111,
     "metadata": {},
     "output_type": "execute_result"
    }
   ],
   "source": [
    "{word: len(word) for word in words}"
   ]
  },
  {
   "cell_type": "markdown",
   "id": "c27a2a48-82a3-4d2b-8c5f-ffcf9b6321fd",
   "metadata": {},
   "source": [
    "# Create a dictionary by inverting keys and values of an existing dictionary."
   ]
  },
  {
   "cell_type": "code",
   "execution_count": 112,
   "id": "6dc6f099-c1ee-47ad-a1bf-1e0a2f89a606",
   "metadata": {},
   "outputs": [],
   "source": [
    "original = {'a': 1, 'b': 2, 'c': 3}"
   ]
  },
  {
   "cell_type": "code",
   "execution_count": 118,
   "id": "01ec0f54-4d6d-4dd6-b527-d6226c28fcfb",
   "metadata": {},
   "outputs": [
    {
     "data": {
      "text/plain": [
       "{1: 'a', 2: 'b', 3: 'c'}"
      ]
     },
     "execution_count": 118,
     "metadata": {},
     "output_type": "execute_result"
    }
   ],
   "source": [
    "{original[i]:i  for i in original}"
   ]
  },
  {
   "cell_type": "markdown",
   "id": "06f824ba-b2e1-4bb3-bb39-ba15793805b9",
   "metadata": {},
   "source": [
    "# Convert a list of strings to uppercase:"
   ]
  },
  {
   "cell_type": "code",
   "execution_count": 119,
   "id": "f50dffbb-d0fc-42dc-9045-0cbdb732bfc1",
   "metadata": {},
   "outputs": [],
   "source": [
    "words = ['data', 'engineering', 'lambda']"
   ]
  },
  {
   "cell_type": "code",
   "execution_count": 120,
   "id": "daba7717-8e79-4be2-8ba7-c17f4093141d",
   "metadata": {},
   "outputs": [
    {
     "data": {
      "text/plain": [
       "['DATA', 'ENGINEERING', 'LAMBDA']"
      ]
     },
     "execution_count": 120,
     "metadata": {},
     "output_type": "execute_result"
    }
   ],
   "source": [
    "[word.upper() for word in words]  # using list comprehension"
   ]
  },
  {
   "cell_type": "code",
   "execution_count": 122,
   "id": "ed2a3ef5-6793-4e56-a07e-5d8899e518c5",
   "metadata": {},
   "outputs": [
    {
     "data": {
      "text/plain": [
       "['DATA', 'ENGINEERING', 'LAMBDA']"
      ]
     },
     "execution_count": 122,
     "metadata": {},
     "output_type": "execute_result"
    }
   ],
   "source": [
    "list(map(lambda word : word.upper(), words)) # using la"
   ]
  },
  {
   "cell_type": "code",
   "execution_count": null,
   "id": "40d17786-f08f-40bc-adc8-613d77c90252",
   "metadata": {},
   "outputs": [],
   "source": []
  }
 ],
 "metadata": {
  "kernelspec": {
   "display_name": "Python 3 (ipykernel)",
   "language": "python",
   "name": "python3"
  },
  "language_info": {
   "codemirror_mode": {
    "name": "ipython",
    "version": 3
   },
   "file_extension": ".py",
   "mimetype": "text/x-python",
   "name": "python",
   "nbconvert_exporter": "python",
   "pygments_lexer": "ipython3",
   "version": "3.11.5"
  }
 },
 "nbformat": 4,
 "nbformat_minor": 5
}
